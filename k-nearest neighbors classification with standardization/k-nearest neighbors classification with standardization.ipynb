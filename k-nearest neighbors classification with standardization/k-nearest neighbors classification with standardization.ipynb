{
 "cells": [
  {
   "cell_type": "code",
   "execution_count": 1,
   "id": "f79cd7f5",
   "metadata": {
    "execution": {
     "iopub.execute_input": "2023-12-14T17:07:29.440794Z",
     "iopub.status.busy": "2023-12-14T17:07:29.440481Z",
     "iopub.status.idle": "2023-12-14T17:07:30.357201Z",
     "shell.execute_reply": "2023-12-14T17:07:30.356919Z"
    }
   },
   "outputs": [],
   "source": [
    "import numpy as np\n",
    "import pandas as pd\n",
    "import matplotlib.pyplot as plt\n",
    "import seaborn as sns\n",
    "\n",
    "from sklearn.neighbors import KNeighborsClassifier\n",
    "from sklearn.preprocessing import StandardScaler"
   ]
  },
  {
   "cell_type": "code",
   "execution_count": 2,
   "id": "6f282eca",
   "metadata": {
    "execution": {
     "iopub.execute_input": "2023-12-14T17:07:30.358880Z",
     "iopub.status.busy": "2023-12-14T17:07:30.358750Z",
     "iopub.status.idle": "2023-12-14T17:07:30.366036Z",
     "shell.execute_reply": "2023-12-14T17:07:30.365771Z"
    }
   },
   "outputs": [
    {
     "data": {
      "text/html": [
       "<div>\n",
       "<style scoped>\n",
       "    .dataframe tbody tr th:only-of-type {\n",
       "        vertical-align: middle;\n",
       "    }\n",
       "\n",
       "    .dataframe tbody tr th {\n",
       "        vertical-align: top;\n",
       "    }\n",
       "\n",
       "    .dataframe thead th {\n",
       "        text-align: right;\n",
       "    }\n",
       "</style>\n",
       "<table border=\"1\" class=\"dataframe\">\n",
       "  <thead>\n",
       "    <tr style=\"text-align: right;\">\n",
       "      <th></th>\n",
       "      <th>species</th>\n",
       "      <th>island</th>\n",
       "      <th>bill_length_mm</th>\n",
       "      <th>bill_depth_mm</th>\n",
       "      <th>flipper_length_mm</th>\n",
       "      <th>body_mass_g</th>\n",
       "      <th>sex</th>\n",
       "    </tr>\n",
       "  </thead>\n",
       "  <tbody>\n",
       "    <tr>\n",
       "      <th>0</th>\n",
       "      <td>Adelie</td>\n",
       "      <td>Torgersen</td>\n",
       "      <td>39.1</td>\n",
       "      <td>18.7</td>\n",
       "      <td>181.0</td>\n",
       "      <td>3750.0</td>\n",
       "      <td>Male</td>\n",
       "    </tr>\n",
       "    <tr>\n",
       "      <th>1</th>\n",
       "      <td>Adelie</td>\n",
       "      <td>Torgersen</td>\n",
       "      <td>39.5</td>\n",
       "      <td>17.4</td>\n",
       "      <td>186.0</td>\n",
       "      <td>3800.0</td>\n",
       "      <td>Female</td>\n",
       "    </tr>\n",
       "    <tr>\n",
       "      <th>2</th>\n",
       "      <td>Adelie</td>\n",
       "      <td>Torgersen</td>\n",
       "      <td>40.3</td>\n",
       "      <td>18.0</td>\n",
       "      <td>195.0</td>\n",
       "      <td>3250.0</td>\n",
       "      <td>Female</td>\n",
       "    </tr>\n",
       "    <tr>\n",
       "      <th>4</th>\n",
       "      <td>Adelie</td>\n",
       "      <td>Torgersen</td>\n",
       "      <td>36.7</td>\n",
       "      <td>19.3</td>\n",
       "      <td>193.0</td>\n",
       "      <td>3450.0</td>\n",
       "      <td>Female</td>\n",
       "    </tr>\n",
       "    <tr>\n",
       "      <th>5</th>\n",
       "      <td>Adelie</td>\n",
       "      <td>Torgersen</td>\n",
       "      <td>39.3</td>\n",
       "      <td>20.6</td>\n",
       "      <td>190.0</td>\n",
       "      <td>3650.0</td>\n",
       "      <td>Male</td>\n",
       "    </tr>\n",
       "  </tbody>\n",
       "</table>\n",
       "</div>"
      ],
      "text/plain": [
       "  species     island  bill_length_mm  bill_depth_mm  flipper_length_mm  \\\n",
       "0  Adelie  Torgersen            39.1           18.7              181.0   \n",
       "1  Adelie  Torgersen            39.5           17.4              186.0   \n",
       "2  Adelie  Torgersen            40.3           18.0              195.0   \n",
       "4  Adelie  Torgersen            36.7           19.3              193.0   \n",
       "5  Adelie  Torgersen            39.3           20.6              190.0   \n",
       "\n",
       "   body_mass_g     sex  \n",
       "0       3750.0    Male  \n",
       "1       3800.0  Female  \n",
       "2       3250.0  Female  \n",
       "4       3450.0  Female  \n",
       "5       3650.0    Male  "
      ]
     },
     "execution_count": 2,
     "metadata": {},
     "output_type": "execute_result"
    }
   ],
   "source": [
    "## Load the penguins dataset and drop instances with missing values\n",
    "penguins = pd.read_csv('penguins.csv').dropna()\n",
    "\n",
    "# Display first five rows\n",
    "penguins.head()"
   ]
  },
  {
   "cell_type": "code",
   "execution_count": 3,
   "id": "c2831466",
   "metadata": {
    "execution": {
     "iopub.execute_input": "2023-12-14T17:07:30.367496Z",
     "iopub.status.busy": "2023-12-14T17:07:30.367417Z",
     "iopub.status.idle": "2023-12-14T17:07:30.369574Z",
     "shell.execute_reply": "2023-12-14T17:07:30.369354Z"
    }
   },
   "outputs": [],
   "source": [
    "# Define input and output features\n",
    "X = penguins[['bill_length_mm', 'bill_depth_mm', 'flipper_length_mm', 'body_mass_g']]\n",
    "y = penguins[['species']]"
   ]
  },
  {
   "cell_type": "code",
   "execution_count": 4,
   "id": "1459bff0",
   "metadata": {
    "execution": {
     "iopub.execute_input": "2023-12-14T17:07:30.370944Z",
     "iopub.status.busy": "2023-12-14T17:07:30.370866Z",
     "iopub.status.idle": "2023-12-14T17:07:30.384454Z",
     "shell.execute_reply": "2023-12-14T17:07:30.384215Z"
    }
   },
   "outputs": [
    {
     "data": {
      "text/plain": [
       "0.8378378378378378"
      ]
     },
     "execution_count": 4,
     "metadata": {},
     "output_type": "execute_result"
    }
   ],
   "source": [
    "# Initialize a model with k=5 neighbors\n",
    "knn = KNeighborsClassifier(n_neighbors=5)\n",
    "\n",
    "# Fit the model\n",
    "knn.fit(X, np.ravel(y))\n",
    "\n",
    "# Calculate the predictions for each instance in X\n",
    "knn.predict(X)\n",
    "\n",
    "# Calculate the proportion of instances correctly classified\n",
    "knn.score(X, np.ravel(y))"
   ]
  },
  {
   "cell_type": "code",
   "execution_count": 5,
   "id": "344b56b1",
   "metadata": {
    "execution": {
     "iopub.execute_input": "2023-12-14T17:07:30.385925Z",
     "iopub.status.busy": "2023-12-14T17:07:30.385837Z",
     "iopub.status.idle": "2023-12-14T17:07:30.400281Z",
     "shell.execute_reply": "2023-12-14T17:07:30.400032Z"
    }
   },
   "outputs": [
    {
     "data": {
      "text/plain": [
       "0.990990990990991"
      ]
     },
     "execution_count": 5,
     "metadata": {},
     "output_type": "execute_result"
    }
   ],
   "source": [
    "# Standardize features in X and re-fit the model\n",
    "\n",
    "# Scale the input features\n",
    "scaler = StandardScaler()\n",
    "X_scaled = scaler.fit_transform(X)\n",
    "\n",
    "# Convert scaled inputs back to a dataframe\n",
    "X_scaled = pd.DataFrame(X_scaled, index=X.index, columns=X.columns)\n",
    "\n",
    "# Re-fit the model using X_scaled\n",
    "knn.fit(X_scaled, np.ravel(y))\n",
    "\n",
    "# Calculate the predictions for each instance in X\n",
    "knn.predict(X_scaled)\n",
    "\n",
    "# Calculate the proportion of instances correctly classified\n",
    "knn.score(X_scaled, np.ravel(y))"
   ]
  }
 ],
 "metadata": {
  "kernelspec": {
   "display_name": "Python 3 - python3",
   "language": "python3",
   "name": "python3"
  },
  "language_info": {
   "codemirror_mode": {
    "name": "ipython",
    "version": 3
   },
   "file_extension": ".py",
   "mimetype": "text/x-python",
   "name": "python",
   "nbconvert_exporter": "python",
   "pygments_lexer": "ipython3",
   "version": "3.10.9"
  }
 },
 "nbformat": 4,
 "nbformat_minor": 5
}
